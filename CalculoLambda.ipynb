{
  "nbformat": 4,
  "nbformat_minor": 0,
  "metadata": {
    "colab": {
      "provenance": [],
      "authorship_tag": "ABX9TyPhTF3Xk98VeO54rRJZD4j/",
      "include_colab_link": true
    },
    "kernelspec": {
      "name": "python3",
      "display_name": "Python 3"
    },
    "language_info": {
      "name": "python"
    }
  },
  "cells": [
    {
      "cell_type": "markdown",
      "metadata": {
        "id": "view-in-github",
        "colab_type": "text"
      },
      "source": [
        "<a href=\"https://colab.research.google.com/github/TrabalhosPUCPR/CalculoLambda/blob/main/CalculoLambda.ipynb\" target=\"_parent\"><img src=\"https://colab.research.google.com/assets/colab-badge.svg\" alt=\"Open In Colab\"/></a>"
      ]
    },
    {
      "cell_type": "markdown",
      "source": [
        "# Funcao swap\n",
        "\n",
        "<h1>cria tupla\n",
        "<center>\n",
        "<h1>\n",
        "$$\n",
        "criaTupla = \\lambda x.\\lambda y.\\lambda f.f \\; x \\; y \\; 3 \\; 7\n",
        "$$$$\n",
        "\\lambda y.\\lambda f.f \\; 3 \\; y \\; 7\n",
        "$$$$\n",
        "\\lambda f.f \\; 3 \\; 7\n",
        "$$$$\n",
        "= \\lambda f.f \\; 3 \\; 7\n",
        "$$\n",
        "</center><br>\n",
        "\n",
        "<h1>first\n",
        "<center>\n",
        "$$\n",
        "fst(par) = \\lambda p.p(\\lambda x.\\lambda y.x) (\\lambda f.f \\; 3 \\; 7)\n",
        "$$$$\n",
        "(\\lambda f.f \\; 3 \\; 7)(\\lambda x.\\lambda y.x)\n",
        "$$$$\n",
        "(\\lambda x.\\lambda y.x) \\; 3 \\; 7\n",
        "$$$$\n",
        "(\\lambda y.3) \\; 7\n",
        "$$$$\n",
        "(3)\n",
        "$$$$\n",
        "= 3\n",
        "$$\n",
        "\n",
        "</center><br>\n",
        "<h1>second\n",
        "<center>\n",
        "$$\n",
        "sec(par) = \\lambda p.p(\\lambda x.\\lambda y.x) (\\lambda f.f\\; 3 \\; 7)\n",
        "$$$$\n",
        "(\\lambda f.f \\; 3 \\; 7)(\\lambda x.\\lambda y.x)\n",
        "$$$$\n",
        "(\\lambda x.\\lambda y.x) \\; 3 \\; 7\n",
        "$$$$\n",
        "(\\lambda y.y) \\; 7\n",
        "$$$$\n",
        "(7)\n",
        "$$$$\n",
        "= 7\n",
        "$$\n",
        "\n",
        "</center><br>\n",
        "<h1>swap\n",
        "<center>\n",
        "\n",
        "<h1>\n",
        "$$\n",
        "\\lambda p.(criaTupla(sec(p) \\; fst(p))) (3 \\; 7)\n",
        "$$$$\n",
        "criaTupla(sec((3 \\; 7)) fst((3 \\; 7)))\n",
        "$$$$\n",
        "criaTupla(7 \\; 3)\n",
        "$$$$\n",
        "= (7, 3)\n",
        "$$\n",
        "</center>\n"
      ],
      "metadata": {
        "id": "tMTUTGOb-MAy"
      }
    },
    {
      "cell_type": "code",
      "source": [
        "criaTupla = lambda x: lambda y: lambda f: f(x)(y)\n",
        "fst = lambda f:  f(lambda x: lambda y: x)\n",
        "sec = lambda f: f(lambda x: lambda y: y)\n",
        "swap = lambda f: f(lambda x: lambda y: criaTupla(sec(f)) (fst(f)))\n",
        "tup = criaTupla(3)(7)\n",
        "swapped = swap(tup)\n",
        "print(fst(swapped),sec(swapped))\n",
        "\n",
        "tup = criaTupla(1)(2)\n",
        "swapped = swap(tup)\n",
        "print(fst(swapped),sec(swapped))\n",
        "\n",
        "tup = criaTupla(3)(4)\n",
        "swapped = swap(tup)\n",
        "print(fst(swapped),sec(swapped))"
      ],
      "metadata": {
        "colab": {
          "base_uri": "https://localhost:8080/"
        },
        "id": "jb7N0RPc7XAm",
        "outputId": "8707a3e3-29cb-42b6-c05d-95a297bf1216"
      },
      "execution_count": 31,
      "outputs": [
        {
          "output_type": "stream",
          "name": "stdout",
          "text": [
            "7 3\n",
            "2 1\n",
            "4 3\n"
          ]
        }
      ]
    },
    {
      "cell_type": "markdown",
      "source": [
        "# Funcao AoPar\n",
        "\n",
        "<center>\n",
        "<h1>\n",
        "$$\n",
        "aoPar(funcao, par) = \\lambda f.\\lambda p.criaTupla(f(fst(p)) \\; f(sec(p))) \\; sqr \\; (5 \\; 10)\n",
        "$$$$\n",
        "\\lambda p.criaTupla(sqr(fst(p)) \\; sqr(sec(p))) \\; (5 \\; 10)\n",
        "$$$$\n",
        "criaTupla(sqr(fst((5 \\; 10))) \\; sqr(sec((5 \\; 10))))\n",
        "$$$$\n",
        "criaTupla(sqr(5) \\; sqr(10))\n",
        "$$$$\n",
        "criaTupla(25 \\; 100)\n",
        "$$$$\n",
        "= (25, 100)\n",
        "$$\n",
        "\n"
      ],
      "metadata": {
        "id": "32o5Fxg_FKZp"
      }
    },
    {
      "cell_type": "code",
      "source": [
        "import math\n",
        "\n",
        "sqr = lambda x: x**2\n",
        "sqrt = lambda x: int(math.sqrt(x))\n",
        "times10 = lambda x: x*10\n",
        "aoPar = lambda f: lambda p: criaTupla(f(fst(p)))(f(sec(p)))\n",
        "\n",
        "tup = criaTupla(5)(10)\n",
        "res = aoPar(sqr)(tup)\n",
        "print(fst(res),sec(res))\n",
        "\n",
        "tup = criaTupla(16)(9)\n",
        "res = aoPar(sqrt)(tup)\n",
        "print(fst(res),sec(res))\n",
        "\n",
        "tup = criaTupla(55)(33)\n",
        "res = aoPar(times10)(tup)\n",
        "print(fst(res),sec(res))"
      ],
      "metadata": {
        "colab": {
          "base_uri": "https://localhost:8080/"
        },
        "id": "jcUpTzgfJcGz",
        "outputId": "bf5e4b9a-1d57-4162-9f1b-d23ca740e722"
      },
      "execution_count": 45,
      "outputs": [
        {
          "output_type": "stream",
          "name": "stdout",
          "text": [
            "25 100\n",
            "4 3\n",
            "550 330\n"
          ]
        }
      ]
    },
    {
      "cell_type": "markdown",
      "source": [
        "# Funcao SomaPar\n",
        "\n",
        "</center>\n",
        "<h1>somaPar\n",
        "<center>\n",
        "$$somaPar(parUm, parDois) =\n",
        "$$$$\n",
        "\\lambda pu.\\lambda pd.criaTupla(fst(pu) + fst(pd)  \\; sec(pu) + sec(pd)) (5 \\; 10) (35 \\; 42)\n",
        "$$$$\n",
        "\\lambda pd.criaTupla(fst((5 \\; 10)) + fst(pd)  \\; sec((5 \\; 10)) + sec(pd)) (35 \\; 42)\n",
        "$$$$\n",
        "criaTupla(fst((5 \\; 10)) + fst((35 \\; 42))  \\; sec((5 \\; 10)) + sec((35 \\; 42)))\n",
        "$$$$\n",
        "criaTupla(5 + 35  \\; sec((5 \\; 10)) + sec((35 \\; 42)))\n",
        "$$$$\n",
        "criaTupla(5 + 35  \\; 10 + 42)\n",
        "$$$$\n",
        "criaTupla(40  \\; 52)\n",
        "$$\n",
        "$$\n",
        "= (40  \\; 52)\n",
        "$$\n",
        "</center>"
      ],
      "metadata": {
        "id": "iCp_z5J6KxWZ"
      }
    },
    {
      "cell_type": "code",
      "source": [
        "somaPar = lambda pu: lambda pd: criaTupla(fst(pu) + fst(pd))(sec(pu) + sec(pd))\n",
        "\n",
        "tup = criaTupla(5)(10)\n",
        "tup2 = criaTupla(35)(42)\n",
        "res = somaPar(tup)(tup2)\n",
        "print(fst(res),sec(res))\n",
        "\n",
        "tup = criaTupla(1)(3)\n",
        "tup2 = criaTupla(2)(4)\n",
        "res = somaPar(tup)(tup2)\n",
        "print(fst(res),sec(res))\n",
        "\n",
        "tup = criaTupla(110)(2)\n",
        "tup2 = criaTupla(90)(3)\n",
        "res = somaPar(tup)(tup2)\n",
        "print(fst(res),sec(res))"
      ],
      "metadata": {
        "colab": {
          "base_uri": "https://localhost:8080/"
        },
        "id": "iWVIP1HJOUZR",
        "outputId": "bddbff10-4dbf-4b38-852d-cabb5e4f40b8"
      },
      "execution_count": 49,
      "outputs": [
        {
          "output_type": "stream",
          "name": "stdout",
          "text": [
            "40 52\n",
            "3 7\n",
            "200 5\n"
          ]
        }
      ]
    }
  ]
}